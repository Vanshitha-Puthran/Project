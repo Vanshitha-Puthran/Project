{
  "nbformat": 4,
  "nbformat_minor": 0,
  "metadata": {
    "colab": {
      "provenance": [],
      "toc_visible": true,
      "authorship_tag": "ABX9TyOqph61oIikVSVdojOIT4/a",
      "include_colab_link": true
    },
    "kernelspec": {
      "name": "python3",
      "display_name": "Python 3"
    },
    "language_info": {
      "name": "python"
    }
  },
  "cells": [
    {
      "cell_type": "markdown",
      "metadata": {
        "id": "view-in-github",
        "colab_type": "text"
      },
      "source": [
        "<a href=\"https://colab.research.google.com/github/Vanshitha-Puthran/Project/blob/main/Hand_Written_Digit_Classification.ipynb\" target=\"_parent\"><img src=\"https://colab.research.google.com/assets/colab-badge.svg\" alt=\"Open In Colab\"/></a>"
      ]
    },
    {
      "cell_type": "markdown",
      "source": [
        "# **Hand Written Digit Prediction-Classification Analysis**\n",
        "\n",
        "\n",
        "\n"
      ],
      "metadata": {
        "id": "KqcYfd-CpAIS"
      }
    },
    {
      "cell_type": "markdown",
      "source": [
        "The digits dataset consists of 8x8 pixel images of digits. The images attribute of the dataset stores 8x8 arrays of grayscale values for each image. We will use these arrays to visualizse the first 4 images. The target attribute of the dataset stores the digit each image represents  "
      ],
      "metadata": {
        "id": "fUrlKHZspgAO"
      }
    },
    {
      "cell_type": "markdown",
      "source": [
        "#**Import Library**"
      ],
      "metadata": {
        "id": "f8jsjXPxe-kQ"
      }
    },
    {
      "cell_type": "code",
      "execution_count": 8,
      "metadata": {
        "id": "0mQYgL-HRiaX"
      },
      "outputs": [],
      "source": [
        "import pandas as pd\n"
      ]
    },
    {
      "cell_type": "code",
      "source": [
        "import numpy as np"
      ],
      "metadata": {
        "id": "_pVQ2XcJRq-J"
      },
      "execution_count": 9,
      "outputs": []
    },
    {
      "cell_type": "code",
      "source": [
        "import matplotlib.pyplot as plt"
      ],
      "metadata": {
        "id": "AygEn3sRRtwd"
      },
      "execution_count": 10,
      "outputs": []
    },
    {
      "cell_type": "markdown",
      "source": [
        "# **Import Data**"
      ],
      "metadata": {
        "id": "_7SiiVDhSAAd"
      }
    },
    {
      "cell_type": "code",
      "source": [
        "from sklearn.datasets import load_digits"
      ],
      "metadata": {
        "id": "IYCN1-f0SF6W"
      },
      "execution_count": 11,
      "outputs": []
    },
    {
      "cell_type": "code",
      "source": [
        "df=load_digits()"
      ],
      "metadata": {
        "id": "QI8PRvhWSYiG"
      },
      "execution_count": 13,
      "outputs": []
    },
    {
      "cell_type": "code",
      "source": [
        "_,axes=plt.subplots(nrows=1,ncols=4,figsize=(10,3))\n",
        "for ax,image,label in zip(axes,df.images,df.target):\n",
        "  ax.set_axis_off()\n",
        "  ax.imshow(image,cmap=plt.cm.gray_r,interpolation=\"nearest\")\n",
        "  ax.set_title(\"Training:%i\"% label)"
      ],
      "metadata": {
        "colab": {
          "base_uri": "https://localhost:8080/",
          "height": 227
        },
        "id": "rK7i3--TSWH9",
        "outputId": "565b0633-7612-4032-82e3-8312a9117ece"
      },
      "execution_count": 14,
      "outputs": [
        {
          "output_type": "display_data",
          "data": {
            "text/plain": [
              "<Figure size 1000x300 with 4 Axes>"
            ],
            "image/png": "[encoded data removed]"
          },
          "metadata": {}
        }
      ]
    },
    {
      "cell_type": "markdown",
      "source": [
        "#**Data Preprocessing**"
      ],
      "metadata": {
        "id": "FsBQHWzVq9mW"
      }
    },
    {
      "cell_type": "markdown",
      "source": [
        "Flattern Image"
      ],
      "metadata": {
        "id": "cy49iEifrMlC"
      }
    },
    {
      "cell_type": "markdown",
      "source": [
        "![image.png](data:image/png;base64,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)"
      ],
      "metadata": {
        "id": "6tu7-VdHsXvH"
      }
    },
    {
      "cell_type": "code",
      "source": [
        "df.images.shape"
      ],
      "metadata": {
        "colab": {
          "base_uri": "https://localhost:8080/"
        },
        "id": "r6gy7cYuTzdo",
        "outputId": "d373a514-d120-4bf8-a953-4ad8d629c29f"
      },
      "execution_count": 15,
      "outputs": [
        {
          "output_type": "execute_result",
          "data": {
            "text/plain": [
              "(1797, 8, 8)"
            ]
          },
          "metadata": {},
          "execution_count": 15
        }
      ]
    },
    {
      "cell_type": "code",
      "source": [
        "df.images[0]"
      ],
      "metadata": {
        "colab": {
          "base_uri": "https://localhost:8080/"
        },
        "id": "X-lbN8iuUb4V",
        "outputId": "e88affdf-6a59-4280-f8f0-8aa086991a99"
      },
      "execution_count": 16,
      "outputs": [
        {
          "output_type": "execute_result",
          "data": {
            "text/plain": [
              "array([[ 0.,  0.,  5., 13.,  9.,  1.,  0.,  0.],\n",
              "       [ 0.,  0., 13., 15., 10., 15.,  5.,  0.],\n",
              "       [ 0.,  3., 15.,  2.,  0., 11.,  8.,  0.],\n",
              "       [ 0.,  4., 12.,  0.,  0.,  8.,  8.,  0.],\n",
              "       [ 0.,  5.,  8.,  0.,  0.,  9.,  8.,  0.],\n",
              "       [ 0.,  4., 11.,  0.,  1., 12.,  7.,  0.],\n",
              "       [ 0.,  2., 14.,  5., 10., 12.,  0.,  0.],\n",
              "       [ 0.,  0.,  6., 13., 10.,  0.,  0.,  0.]])"
            ]
          },
          "metadata": {},
          "execution_count": 16
        }
      ]
    },
    {
      "cell_type": "code",
      "source": [
        "df.images[0].shape"
      ],
      "metadata": {
        "colab": {
          "base_uri": "https://localhost:8080/"
        },
        "id": "hysb9r--Ukya",
        "outputId": "e942780f-3880-4861-9a53-7a4b804ceab5"
      },
      "execution_count": 17,
      "outputs": [
        {
          "output_type": "execute_result",
          "data": {
            "text/plain": [
              "(8, 8)"
            ]
          },
          "metadata": {},
          "execution_count": 17
        }
      ]
    },
    {
      "cell_type": "code",
      "source": [
        "len(df.images)"
      ],
      "metadata": {
        "colab": {
          "base_uri": "https://localhost:8080/"
        },
        "id": "WK9J6ro2UyY0",
        "outputId": "8aab5ed4-ef29-4b2f-f55e-aaed920d9860"
      },
      "execution_count": 18,
      "outputs": [
        {
          "output_type": "execute_result",
          "data": {
            "text/plain": [
              "1797"
            ]
          },
          "metadata": {},
          "execution_count": 18
        }
      ]
    },
    {
      "cell_type": "code",
      "source": [
        "n_samples=len(df.images)\n",
        "data=df.images.reshape((n_samples,-1))"
      ],
      "metadata": {
        "id": "C1gJHwhPVANw"
      },
      "execution_count": 19,
      "outputs": []
    },
    {
      "cell_type": "code",
      "source": [
        "data[0]"
      ],
      "metadata": {
        "colab": {
          "base_uri": "https://localhost:8080/"
        },
        "id": "V56rgQB1VZYK",
        "outputId": "e80efb33-284f-4a28-d00b-27c70a32a612"
      },
      "execution_count": 20,
      "outputs": [
        {
          "output_type": "execute_result",
          "data": {
            "text/plain": [
              "array([ 0.,  0.,  5., 13.,  9.,  1.,  0.,  0.,  0.,  0., 13., 15., 10.,\n",
              "       15.,  5.,  0.,  0.,  3., 15.,  2.,  0., 11.,  8.,  0.,  0.,  4.,\n",
              "       12.,  0.,  0.,  8.,  8.,  0.,  0.,  5.,  8.,  0.,  0.,  9.,  8.,\n",
              "        0.,  0.,  4., 11.,  0.,  1., 12.,  7.,  0.,  0.,  2., 14.,  5.,\n",
              "       10., 12.,  0.,  0.,  0.,  0.,  6., 13., 10.,  0.,  0.,  0.])"
            ]
          },
          "metadata": {},
          "execution_count": 20
        }
      ]
    },
    {
      "cell_type": "code",
      "source": [
        "data[0].shape"
      ],
      "metadata": {
        "colab": {
          "base_uri": "https://localhost:8080/"
        },
        "id": "z8RjmUT5VhuS",
        "outputId": "3ef7b599-60dd-4945-f6e3-6178bad4b5ed"
      },
      "execution_count": 21,
      "outputs": [
        {
          "output_type": "execute_result",
          "data": {
            "text/plain": [
              "(64,)"
            ]
          },
          "metadata": {},
          "execution_count": 21
        }
      ]
    },
    {
      "cell_type": "code",
      "source": [
        "data.shape"
      ],
      "metadata": {
        "colab": {
          "base_uri": "https://localhost:8080/"
        },
        "id": "LR2cuWQLVrTU",
        "outputId": "e7c13670-bd79-47d3-ecf9-d3bb7f634784"
      },
      "execution_count": 22,
      "outputs": [
        {
          "output_type": "execute_result",
          "data": {
            "text/plain": [
              "(1797, 64)"
            ]
          },
          "metadata": {},
          "execution_count": 22
        }
      ]
    },
    {
      "cell_type": "markdown",
      "source": [
        "#**Scaling Image Data**"
      ],
      "metadata": {
        "id": "SBGkPHByVzue"
      }
    },
    {
      "cell_type": "code",
      "source": [
        "data.min()"
      ],
      "metadata": {
        "colab": {
          "base_uri": "https://localhost:8080/"
        },
        "id": "IahlD8rJV56U",
        "outputId": "ba7c5eff-2741-4509-a0f1-3cfae2758e0e"
      },
      "execution_count": 23,
      "outputs": [
        {
          "output_type": "execute_result",
          "data": {
            "text/plain": [
              "0.0"
            ]
          },
          "metadata": {},
          "execution_count": 23
        }
      ]
    },
    {
      "cell_type": "code",
      "source": [
        "data.max()"
      ],
      "metadata": {
        "colab": {
          "base_uri": "https://localhost:8080/"
        },
        "id": "yeLFupYQWH24",
        "outputId": "c622c53a-0210-472e-93c7-adea16af8809"
      },
      "execution_count": 24,
      "outputs": [
        {
          "output_type": "execute_result",
          "data": {
            "text/plain": [
              "16.0"
            ]
          },
          "metadata": {},
          "execution_count": 24
        }
      ]
    },
    {
      "cell_type": "code",
      "source": [
        "data=data/16"
      ],
      "metadata": {
        "id": "ki1BVG3XWO49"
      },
      "execution_count": 25,
      "outputs": []
    },
    {
      "cell_type": "code",
      "source": [
        "data.min()"
      ],
      "metadata": {
        "colab": {
          "base_uri": "https://localhost:8080/"
        },
        "id": "egkoAMNYWXu6",
        "outputId": "999a785d-ed89-4af4-843a-3255ff8359fc"
      },
      "execution_count": 26,
      "outputs": [
        {
          "output_type": "execute_result",
          "data": {
            "text/plain": [
              "0.0"
            ]
          },
          "metadata": {},
          "execution_count": 26
        }
      ]
    },
    {
      "cell_type": "code",
      "source": [
        "data.max()"
      ],
      "metadata": {
        "colab": {
          "base_uri": "https://localhost:8080/"
        },
        "id": "YhVaGq-mWeh6",
        "outputId": "9c57c41e-8758-419c-e434-06c1b1146857"
      },
      "execution_count": 27,
      "outputs": [
        {
          "output_type": "execute_result",
          "data": {
            "text/plain": [
              "1.0"
            ]
          },
          "metadata": {},
          "execution_count": 27
        }
      ]
    },
    {
      "cell_type": "code",
      "source": [
        "data[0]"
      ],
      "metadata": {
        "colab": {
          "base_uri": "https://localhost:8080/"
        },
        "id": "QLw0yF5gWmKt",
        "outputId": "03d30a1e-a0eb-4d2d-e428-a81146e2e7b6"
      },
      "execution_count": 28,
      "outputs": [
        {
          "output_type": "execute_result",
          "data": {
            "text/plain": [
              "array([0.    , 0.    , 0.3125, 0.8125, 0.5625, 0.0625, 0.    , 0.    ,\n",
              "       0.    , 0.    , 0.8125, 0.9375, 0.625 , 0.9375, 0.3125, 0.    ,\n",
              "       0.    , 0.1875, 0.9375, 0.125 , 0.    , 0.6875, 0.5   , 0.    ,\n",
              "       0.    , 0.25  , 0.75  , 0.    , 0.    , 0.5   , 0.5   , 0.    ,\n",
              "       0.    , 0.3125, 0.5   , 0.    , 0.    , 0.5625, 0.5   , 0.    ,\n",
              "       0.    , 0.25  , 0.6875, 0.    , 0.0625, 0.75  , 0.4375, 0.    ,\n",
              "       0.    , 0.125 , 0.875 , 0.3125, 0.625 , 0.75  , 0.    , 0.    ,\n",
              "       0.    , 0.    , 0.375 , 0.8125, 0.625 , 0.    , 0.    , 0.    ])"
            ]
          },
          "metadata": {},
          "execution_count": 28
        }
      ]
    },
    {
      "cell_type": "markdown",
      "source": [
        "# **Train Test_split**"
      ],
      "metadata": {
        "id": "6yw9CLl4W4kw"
      }
    },
    {
      "cell_type": "code",
      "source": [
        "from sklearn.model_selection import train_test_split"
      ],
      "metadata": {
        "id": "618K54tnWuFd"
      },
      "execution_count": 29,
      "outputs": []
    },
    {
      "cell_type": "code",
      "source": [
        "X_train,X_test,y_train,y_test=train_test_split(data,df.target,test_size=0.3)"
      ],
      "metadata": {
        "id": "dIFuEDIFXVxy"
      },
      "execution_count": 30,
      "outputs": []
    },
    {
      "cell_type": "code",
      "source": [
        "X_train.shape,X_test.shape,y_train.shape,y_test.shape"
      ],
      "metadata": {
        "colab": {
          "base_uri": "https://localhost:8080/"
        },
        "id": "WEiFhI37X2l8",
        "outputId": "e41a1379-1fb4-4273-9f39-2d053017d7e7"
      },
      "execution_count": 31,
      "outputs": [
        {
          "output_type": "execute_result",
          "data": {
            "text/plain": [
              "((1257, 64), (540, 64), (1257,), (540,))"
            ]
          },
          "metadata": {},
          "execution_count": 31
        }
      ]
    },
    {
      "cell_type": "markdown",
      "source": [
        "#**Random Forest Model**"
      ],
      "metadata": {
        "id": "VdjeV1f8YLhJ"
      }
    },
    {
      "cell_type": "code",
      "source": [
        "from sklearn.ensemble import RandomForestClassifier"
      ],
      "metadata": {
        "id": "VtzhjcovYJcy"
      },
      "execution_count": 41,
      "outputs": []
    },
    {
      "cell_type": "code",
      "source": [
        "rf=RandomForestClassifier()"
      ],
      "metadata": {
        "id": "4SXklt8EYmdt"
      },
      "execution_count": 33,
      "outputs": []
    },
    {
      "cell_type": "code",
      "source": [
        "rf.fit(X_train,y_train)"
      ],
      "metadata": {
        "colab": {
          "base_uri": "https://localhost:8080/",
          "height": 51
        },
        "id": "XAjCJtdNYtzX",
        "outputId": "19a9e383-0835-4adb-de5c-8a6f5c6edaa9"
      },
      "execution_count": 34,
      "outputs": [
        {
          "output_type": "execute_result",
          "data": {
            "text/plain": [
              "RandomForestClassifier()"
            ],
            "text/html": [
              "<style>#sk-container-id-1 {color: black;}#sk-container-id-1 pre{padding: 0;}#sk-container-id-1 div.sk-toggleable {background-color: white;}#sk-container-id-1 label.sk-toggleable__label {cursor: pointer;display: block;width: 100%;margin-bottom: 0;padding: 0.3em;box-sizing: border-box;text-align: center;}#sk-container-id-1 label.sk-toggleable__label-arrow:before {content: \"▸\";float: left;margin-right: 0.25em;color: #696969;}#sk-container-id-1 label.sk-toggleable__label-arrow:hover:before {color: black;}#sk-container-id-1 div.sk-estimator:hover label.sk-toggleable__label-arrow:before {color: black;}#sk-container-id-1 div.sk-toggleable__content {max-height: 0;max-width: 0;overflow: hidden;text-align: left;background-color: #f0f8ff;}#sk-container-id-1 div.sk-toggleable__content pre {margin: 0.2em;color: black;border-radius: 0.25em;background-color: #f0f8ff;}#sk-container-id-1 input.sk-toggleable__control:checked~div.sk-toggleable__content {max-height: 200px;max-width: 100%;overflow: auto;}#sk-container-id-1 input.sk-toggleable__control:checked~label.sk-toggleable__label-arrow:before {content: \"▾\";}#sk-container-id-1 div.sk-estimator input.sk-toggleable__control:checked~label.sk-toggleable__label {background-color: #d4ebff;}#sk-container-id-1 div.sk-label input.sk-toggleable__control:checked~label.sk-toggleable__label {background-color: #d4ebff;}#sk-container-id-1 input.sk-hidden--visually {border: 0;clip: rect(1px 1px 1px 1px);clip: rect(1px, 1px, 1px, 1px);height: 1px;margin: -1px;overflow: hidden;padding: 0;position: absolute;width: 1px;}#sk-container-id-1 div.sk-estimator {font-family: monospace;background-color: #f0f8ff;border: 1px dotted black;border-radius: 0.25em;box-sizing: border-box;margin-bottom: 0.5em;}#sk-container-id-1 div.sk-estimator:hover {background-color: #d4ebff;}#sk-container-id-1 div.sk-parallel-item::after {content: \"\";width: 100%;border-bottom: 1px solid gray;flex-grow: 1;}#sk-container-id-1 div.sk-label:hover label.sk-toggleable__label {background-color: #d4ebff;}#sk-container-id-1 div.sk-serial::before {content: \"\";position: absolute;border-left: 1px solid gray;box-sizing: border-box;top: 0;bottom: 0;left: 50%;z-index: 0;}#sk-container-id-1 div.sk-serial {display: flex;flex-direction: column;align-items: center;background-color: white;padding-right: 0.2em;padding-left: 0.2em;position: relative;}#sk-container-id-1 div.sk-item {position: relative;z-index: 1;}#sk-container-id-1 div.sk-parallel {display: flex;align-items: stretch;justify-content: center;background-color: white;position: relative;}#sk-container-id-1 div.sk-item::before, #sk-container-id-1 div.sk-parallel-item::before {content: \"\";position: absolute;border-left: 1px solid gray;box-sizing: border-box;top: 0;bottom: 0;left: 50%;z-index: -1;}#sk-container-id-1 div.sk-parallel-item {display: flex;flex-direction: column;z-index: 1;position: relative;background-color: white;}#sk-container-id-1 div.sk-parallel-item:first-child::after {align-self: flex-end;width: 50%;}#sk-container-id-1 div.sk-parallel-item:last-child::after {align-self: flex-start;width: 50%;}#sk-container-id-1 div.sk-parallel-item:only-child::after {width: 0;}#sk-container-id-1 div.sk-dashed-wrapped {border: 1px dashed gray;margin: 0 0.4em 0.5em 0.4em;box-sizing: border-box;padding-bottom: 0.4em;background-color: white;}#sk-container-id-1 div.sk-label label {font-family: monospace;font-weight: bold;display: inline-block;line-height: 1.2em;}#sk-container-id-1 div.sk-label-container {text-align: center;}#sk-container-id-1 div.sk-container {/* jupyter's `normalize.less` sets `[hidden] { display: none; }` but bootstrap.min.css set `[hidden] { display: none !important; }` so we also need the `!important` here to be able to override the default hidden behavior on the sphinx rendered scikit-learn.org. See: https://github.com/scikit-learn/scikit-learn/issues/21755 */display: inline-block !important;position: relative;}#sk-container-id-1 div.sk-text-repr-fallback {display: none;}</style><div id=\"sk-container-id-1\" class=\"sk-top-container\"><div class=\"sk-text-repr-fallback\"><pre>RandomForestClassifier()</pre><b>In a Jupyter environment, please rerun this cell to show the HTML representation or trust the notebook. <br />On GitHub, the HTML representation is unable to render, please try loading this page with nbviewer.org.</b></div><div class=\"sk-container\" hidden><div class=\"sk-item\"><div class=\"sk-estimator sk-toggleable\"><input class=\"sk-toggleable__control sk-hidden--visually\" id=\"sk-estimator-id-1\" type=\"checkbox\" checked><label for=\"sk-estimator-id-1\" class=\"sk-toggleable__label sk-toggleable__label-arrow\">RandomForestClassifier</label><div class=\"sk-toggleable__content\"><pre>RandomForestClassifier()</pre></div></div></div></div></div>"
            ]
          },
          "metadata": {},
          "execution_count": 34
        }
      ]
    },
    {
      "cell_type": "markdown",
      "source": [
        "#**Predict Test Data**"
      ],
      "metadata": {
        "id": "L13qmWPaY9vv"
      }
    },
    {
      "cell_type": "code",
      "source": [
        "y_pred=rf.predict(X_test)"
      ],
      "metadata": {
        "id": "BnQSu4mFZDcL"
      },
      "execution_count": 35,
      "outputs": []
    },
    {
      "cell_type": "code",
      "source": [
        "y_pred"
      ],
      "metadata": {
        "colab": {
          "base_uri": "https://localhost:8080/"
        },
        "id": "1jclNDoqZRdS",
        "outputId": "9e203a3f-9966-4040-bd34-e151831da6f3"
      },
      "execution_count": 36,
      "outputs": [
        {
          "output_type": "execute_result",
          "data": {
            "text/plain": [
              "array([0, 0, 3, 7, 9, 9, 6, 5, 8, 8, 8, 7, 6, 4, 8, 9, 8, 1, 6, 6, 1, 0,\n",
              "       5, 9, 2, 0, 2, 9, 0, 2, 9, 4, 5, 6, 9, 8, 4, 8, 9, 7, 2, 1, 4, 1,\n",
              "       0, 7, 9, 3, 0, 4, 4, 5, 1, 7, 2, 4, 3, 0, 8, 8, 9, 6, 0, 9, 1, 7,\n",
              "       7, 2, 4, 0, 8, 6, 3, 1, 4, 1, 1, 1, 2, 7, 8, 3, 5, 2, 1, 7, 0, 3,\n",
              "       9, 7, 7, 6, 7, 8, 7, 2, 5, 5, 0, 4, 8, 5, 7, 1, 9, 7, 6, 3, 1, 4,\n",
              "       2, 2, 6, 6, 1, 6, 8, 3, 6, 1, 9, 6, 2, 8, 9, 9, 5, 4, 6, 0, 6, 2,\n",
              "       9, 4, 7, 5, 1, 3, 3, 7, 7, 8, 3, 7, 9, 7, 3, 2, 4, 9, 9, 6, 1, 4,\n",
              "       5, 4, 4, 4, 2, 2, 4, 7, 0, 6, 3, 1, 4, 3, 3, 0, 0, 6, 4, 7, 8, 0,\n",
              "       1, 4, 0, 5, 3, 2, 5, 7, 7, 7, 9, 9, 3, 9, 4, 8, 1, 5, 9, 6, 1, 3,\n",
              "       9, 0, 6, 4, 6, 2, 0, 6, 4, 6, 0, 3, 6, 2, 2, 9, 3, 9, 7, 4, 9, 3,\n",
              "       3, 9, 0, 5, 4, 7, 0, 4, 8, 1, 5, 2, 2, 2, 2, 8, 0, 5, 9, 3, 8, 5,\n",
              "       1, 1, 3, 3, 3, 0, 7, 8, 2, 8, 1, 4, 2, 3, 8, 8, 5, 0, 1, 7, 3, 1,\n",
              "       4, 0, 1, 7, 6, 1, 9, 4, 4, 2, 4, 1, 7, 7, 0, 7, 0, 6, 1, 7, 4, 0,\n",
              "       8, 8, 1, 8, 5, 0, 6, 3, 8, 4, 4, 0, 2, 7, 1, 8, 4, 4, 7, 4, 5, 9,\n",
              "       3, 0, 9, 4, 6, 5, 1, 3, 4, 3, 5, 1, 9, 3, 4, 1, 0, 3, 8, 1, 6, 6,\n",
              "       5, 8, 9, 9, 2, 6, 5, 4, 9, 8, 8, 8, 1, 4, 1, 7, 0, 6, 7, 9, 3, 2,\n",
              "       4, 9, 5, 8, 1, 9, 1, 6, 6, 6, 9, 4, 6, 5, 0, 5, 8, 5, 4, 9, 9, 1,\n",
              "       4, 9, 6, 8, 2, 4, 5, 7, 4, 7, 0, 1, 5, 5, 5, 4, 7, 7, 5, 7, 0, 8,\n",
              "       8, 8, 4, 5, 7, 9, 6, 9, 5, 4, 7, 6, 7, 1, 1, 4, 4, 7, 7, 3, 3, 7,\n",
              "       0, 5, 6, 6, 8, 4, 0, 1, 1, 3, 9, 6, 3, 9, 8, 8, 0, 9, 9, 7, 0, 9,\n",
              "       6, 4, 2, 3, 2, 5, 5, 1, 7, 8, 6, 4, 3, 3, 1, 0, 6, 4, 9, 4, 2, 4,\n",
              "       5, 7, 7, 6, 4, 8, 3, 8, 7, 2, 8, 5, 5, 8, 1, 5, 3, 7, 0, 5, 6, 4,\n",
              "       7, 7, 1, 8, 7, 8, 1, 9, 4, 3, 8, 1, 5, 4, 7, 1, 4, 1, 3, 2, 6, 0,\n",
              "       2, 3, 7, 9, 1, 6, 0, 1, 5, 2, 7, 6, 4, 6, 8, 2, 0, 6, 7, 5, 4, 9,\n",
              "       3, 4, 4, 4, 6, 2, 1, 9, 5, 1, 4, 0])"
            ]
          },
          "metadata": {},
          "execution_count": 36
        }
      ]
    },
    {
      "cell_type": "markdown",
      "source": [
        "#**Model Accuracy**"
      ],
      "metadata": {
        "id": "a2YjKaXvex63"
      }
    },
    {
      "cell_type": "code",
      "source": [
        "from sklearn.metrics import confusion_matrix,classification_report"
      ],
      "metadata": {
        "id": "I22RE_UDZa8O"
      },
      "execution_count": 42,
      "outputs": []
    },
    {
      "cell_type": "code",
      "source": [
        "confusion_matrix(y_test, y_pred)"
      ],
      "metadata": {
        "colab": {
          "base_uri": "https://localhost:8080/"
        },
        "id": "lQ_EoaIIaGyu",
        "outputId": "72c05031-0a9f-4f0e-bc41-d77ac73b9497"
      },
      "execution_count": 39,
      "outputs": [
        {
          "output_type": "execute_result",
          "data": {
            "text/plain": [
              "array([[48,  0,  0,  0,  0,  0,  0,  0,  0,  0],\n",
              "       [ 0, 57,  0,  0,  0,  0,  0,  0,  0,  0],\n",
              "       [ 0,  0, 40,  0,  0,  0,  0,  0,  0,  0],\n",
              "       [ 0,  0,  0, 46,  0,  1,  0,  0,  0,  0],\n",
              "       [ 0,  0,  0,  0, 71,  0,  0,  0,  0,  0],\n",
              "       [ 0,  0,  0,  0,  1, 46,  1,  0,  1,  0],\n",
              "       [ 0,  0,  0,  0,  0,  0, 53,  0,  0,  0],\n",
              "       [ 0,  0,  0,  0,  0,  0,  0, 61,  0,  1],\n",
              "       [ 0,  1,  0,  0,  0,  0,  0,  0, 52,  1],\n",
              "       [ 0,  1,  0,  2,  0,  1,  0,  1,  0, 54]])"
            ]
          },
          "metadata": {},
          "execution_count": 39
        }
      ]
    },
    {
      "cell_type": "code",
      "source": [
        "print(classification_report(y_test,y_pred))"
      ],
      "metadata": {
        "colab": {
          "base_uri": "https://localhost:8080/"
        },
        "id": "yjYPfOuXaG2M",
        "outputId": "797a4e6c-7c2e-46d2-e032-3912d7f3750f"
      },
      "execution_count": 40,
      "outputs": [
        {
          "output_type": "stream",
          "name": "stdout",
          "text": [
            "              precision    recall  f1-score   support\n",
            "\n",
            "           0       1.00      1.00      1.00        48\n",
            "           1       0.97      1.00      0.98        57\n",
            "           2       1.00      1.00      1.00        40\n",
            "           3       0.96      0.98      0.97        47\n",
            "           4       0.99      1.00      0.99        71\n",
            "           5       0.96      0.94      0.95        49\n",
            "           6       0.98      1.00      0.99        53\n",
            "           7       0.98      0.98      0.98        62\n",
            "           8       0.98      0.96      0.97        54\n",
            "           9       0.96      0.92      0.94        59\n",
            "\n",
            "    accuracy                           0.98       540\n",
            "   macro avg       0.98      0.98      0.98       540\n",
            "weighted avg       0.98      0.98      0.98       540\n",
            "\n"
          ]
        }
      ]
    }
  ]
}